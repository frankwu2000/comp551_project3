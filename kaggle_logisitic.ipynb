{
 "cells": [
  {
   "cell_type": "code",
   "execution_count": 1,
   "metadata": {},
   "outputs": [
    {
     "name": "stdout",
     "output_type": "stream",
     "text": [
      "start loading\n",
      "finish loading training data set\n",
      "finish loading test data set\n",
      "(10000, 4096)\n"
     ]
    }
   ],
   "source": [
    "import numpy as np \n",
    "\n",
    "#load data set\n",
    "print(\"start loading\")\n",
    "x = np.loadtxt(\"train_x.csv\", delimiter=\",\") # load from text \n",
    "y = np.loadtxt(\"train_y.csv\", delimiter=\",\") \n",
    "#x = x.reshape(-1, 64, 64) # reshape \n",
    "#y = y.reshape(-1, 1) \n",
    "\n",
    "print(\"finish loading training data set\")\n",
    "\n",
    "x_test_kaggle = np.loadtxt(\"test_x.csv\", delimiter=\",\") \n",
    "\n",
    "print(\"finish loading test data set\")\n",
    "print(x_test_kaggle.shape)\n"
   ]
  },
  {
   "cell_type": "code",
   "execution_count": 2,
   "metadata": {},
   "outputs": [
    {
     "name": "stdout",
     "output_type": "stream",
     "text": [
      "start training logistic\n",
      "(10000,)\n",
      "finish output\n"
     ]
    }
   ],
   "source": [
    "\n",
    "from sklearn.linear_model import LogisticRegression\n",
    "print(\"start training logistic\")\n",
    "lr_classifier = LogisticRegression(penalty='l2', C=1)\n",
    "lr_classifier.fit(x, y)\n",
    "y_kaggle = lr_classifier.predict(x_test_kaggle)\n",
    "\n",
    "print(y_kaggle.shape)\n",
    "\n",
    "with open(\"kaggle_logistic_output.csv\",\"w\") as output:\n",
    "    output.write(\"Id,Label\")\n",
    "    output.write(\"\\n\")\n",
    "    for row in range(len(y_kaggle)):\n",
    "        output.write(str(row+1))\n",
    "        output.write(',')\n",
    "        output.write(str(y_kaggle[row]))\n",
    "        output.write(\"\\n\")        \n",
    "print(\"finish output\")"
   ]
  }
 ],
 "metadata": {
  "kernelspec": {
   "display_name": "Python 3",
   "language": "python",
   "name": "python3"
  },
  "language_info": {
   "codemirror_mode": {
    "name": "ipython",
    "version": 3
   },
   "file_extension": ".py",
   "mimetype": "text/x-python",
   "name": "python",
   "nbconvert_exporter": "python",
   "pygments_lexer": "ipython3",
   "version": "3.6.1"
  }
 },
 "nbformat": 4,
 "nbformat_minor": 2
}
